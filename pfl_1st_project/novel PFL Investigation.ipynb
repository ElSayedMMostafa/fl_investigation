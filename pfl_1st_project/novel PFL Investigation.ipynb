{
 "cells": [
  {
   "cell_type": "markdown",
   "id": "8e9d79fc",
   "metadata": {},
   "source": [
    "# Imports"
   ]
  },
  {
   "cell_type": "code",
   "execution_count": null,
   "id": "fb7f1fb7",
   "metadata": {},
   "outputs": [],
   "source": [
    "import os\n",
    "import copy\n",
    "import time\n",
    "import pickle\n",
    "import numpy as np\n",
    "from tqdm import tqdm\n",
    "import torch\n",
    "from tensorboardX import SummaryWriter\n",
    "from dataclasses import dataclass\n",
    "import numpy as np\n",
    "import matplotlib\n",
    "import matplotlib.pyplot as plt\n",
    "\n",
    "from options import args_parser\n",
    "from update import test_inference, LocalUpdate, LocalUpdate_PFL\n",
    "from models import MLP, CNNMnist, CNNFashion_Mnist, CNNCifar\n",
    "from utils import get_dataset, average_weights, exp_details"
   ]
  },
  {
   "cell_type": "markdown",
   "id": "755bfd27",
   "metadata": {},
   "source": [
    "# Setup & Functions"
   ]
  },
  {
   "cell_type": "code",
   "execution_count": null,
   "id": "d57086ed",
   "metadata": {},
   "outputs": [],
   "source": [
    "@dataclass\n",
    "class Args:\n",
    "    \"\"\"\n",
    "      This class implements C-like structures to hold the arguments for the simulations\n",
    "      instead of passing them as bash commands.\n",
    "    \"\"\"\n",
    "    pfl: int = 1 # pfl/tfl (0=TFL, 1=PFL)\n",
    "    comm_rounds: int = 10 # number of rounds of training\n",
    "    num_users: int = 100 # number of users: K\n",
    "    frac: float = 0.1 # the fraction of clients: C\n",
    "    local_ep: int = 10 # the number of local epochs: E\n",
    "    local_bs: int = 10 # local batch size: B\n",
    "    lr: float = 0.01 # learning rate\n",
    "    momentum: float = 0.5 # SGD momentum (default: 0.5)\n",
    "    # model arguments\n",
    "    model: str = 'mlp' # model name\n",
    "    kernel_num: int = 9 # number of each kind of kernel\n",
    "    kernel_sizes: str = '3,4,5' # comma-separated kernel size to use for convolution\n",
    "    num_channels: int = 1 # number of channels of imgs\n",
    "    norm: str = 'batch_norm' # batch_norm, layer_norm, or None\n",
    "    num_filters: int = 32 # number of filters for conv nets -- 32 for mini-imagenet, 64 for omiglot.\n",
    "    max_pool: str = 'True' # Whether use max pooling rather than strided convolutions\n",
    "    # other arguments\n",
    "    dataset: str = 'mnist' #name of dataset\n",
    "    num_classes: int = 10 #\n",
    "    gpu: int = None\n",
    "    optimizer: str = 'sgd'\n",
    "    iid: int = 1\n",
    "    unequal: int = 0\n",
    "    stopping_rounds: int = 10\n",
    "    verbose: int = 1\n",
    "    seed: int = 1"
   ]
  },
  {
   "cell_type": "code",
   "execution_count": null,
   "id": "8c06b8a9",
   "metadata": {},
   "outputs": [],
   "source": [
    "def sum_weights(model1, model2):\n",
    "    res = copy.deepcopy(model1)\n",
    "    for layer1, layer2 in zip(model1, model2):\n",
    "        l1 = np.array(model1[layer1])\n",
    "        l2 = np.array(model2[layer2])\n",
    "        res[layer1] = np.add(l1, l2)\n",
    "    return res\n",
    "\n",
    "def multiply_weights(model, w):\n",
    "    res = copy.deepcopy(model)\n",
    "    for layer in model:\n",
    "        res[layer] = torch.tensor(w*np.array(model[layer]))\n",
    "    return res\n",
    "\n",
    "def plot_distrbutions(dataset, n_clients, max_cols=5):\n",
    "    bins = [x for x in range(10)] #for categorical data with 10\n",
    "    cols, rows = min(n_clients,max_cols), max(1, round(n_clients/max_cols))\n",
    "    figure = plt.figure(figsize=(15*rows, 2*rows))\n",
    "    print(\"rows= {}, cols={} \".format(rows, cols))\n",
    "    for i in range(n_clients):\n",
    "        idxs = user_groups[i]\n",
    "        ys = [dataset[int(idx)][1] for idx in idxs]\n",
    "        figure.add_subplot(rows, cols, i+1)\n",
    "        plt.title(\"client {}\".format(i))\n",
    "        #plt.axis(\"off\")\n",
    "        plt.hist(ys, 10,range=(0,10));\n",
    "    plt.show()\n",
    "    \n",
    "def plot_data(dataset):\n",
    "    figure = plt.figure(figsize=(10, 10))\n",
    "    cols, rows = 9, 1\n",
    "    for i in range(1, cols * rows + 1):\n",
    "        sample_idx = torch.randint(len(train_dataset), size=(1,)).item()\n",
    "        img, label = dataset[sample_idx]\n",
    "        figure.add_subplot(rows, cols, i)\n",
    "        plt.title(label)\n",
    "        plt.axis(\"off\")\n",
    "        plt.imshow(img.squeeze(), cmap=\"gray\")\n",
    "    plt.show()\n",
    "#plot_data()\n",
    "\n",
    "def plot_history(history_dict, comm_rounds, metric=\"loss\"):\n",
    "    figure = plt.figure(figsize=(6, 2))\n",
    "    for idx in range(len(history_dict.keys())):\n",
    "        plt.plot(range(1, comm_rounds+1), history_dict[idx][metric], label=\"user \".format(idx))\n",
    "    plt.title(\"{} per communication rounds\".format(metric))\n",
    "    plt.xlabel(\"communication round\")\n",
    "    plt.ylabel(metric)\n",
    "    plt.show()"
   ]
  },
  {
   "cell_type": "code",
   "execution_count": null,
   "id": "b8a5962c",
   "metadata": {},
   "outputs": [],
   "source": [
    "def build_model(args, train_dataset=None):\n",
    "    if args.model=='cnn': # Convolutional neural network\n",
    "        if args.dataset == 'mnist':\n",
    "            model = CNNMnist(args=args)\n",
    "        elif args.dataset =='cifar':\n",
    "            model = CNNCifar(args=args)\n",
    "        elif args.dataset == 'fmnist':\n",
    "            model = CNNFashion_Mnist(args=args)\n",
    "        return model\n",
    "    elif args.model == 'mlp':\n",
    "        img_size = train_dataset[0][0].shape\n",
    "        len_in = 1\n",
    "        for x in img_size:\n",
    "            len_in *= x\n",
    "            model = MLP(dim_in=len_in, dim_hidden=64, dim_out=args.num_classes)\n",
    "            return model.print()\n",
    "        return\n",
    "    else:\n",
    "        exit('Error: unrecognized model')"
   ]
  },
  {
   "cell_type": "code",
   "execution_count": null,
   "id": "b8831631",
   "metadata": {},
   "outputs": [],
   "source": [
    "def run(args, global_model, train_dataset, test_dataset, user_groups, ratio=0.3, print_every=5):\n",
    "    \"\"\"\n",
    "      This functions implements the full FL scenario. It fetches the dataset, creats the model,\n",
    "      assign data points to users, train the local devices, get the global model and compute the \n",
    "      overall training and testing loss and accuracies. \n",
    "      @ Args:\n",
    "        - args: the simulation parameters\n",
    "      @ Returns:\n",
    "        - x:\n",
    "     \"\"\"\n",
    "    start_time = time.time()\n",
    "    # .. define paths\n",
    "    path_project = os.path.abspath('..')\n",
    "    logger = SummaryWriter('../logs')\n",
    "    \n",
    "    if args.gpu:\n",
    "        torch.cuda.set_device(args.gpu)\n",
    "    device = 'cuda' if args.gpu else 'cpu'\n",
    "    \n",
    "    # build model\n",
    "    # Set the model to train and send it to device.\n",
    "    global_model.to(device)\n",
    "    global_model.train()\n",
    "    \n",
    "    # copy weights\n",
    "    global_weights = global_model.state_dict()\n",
    "\n",
    "    # Histories for plotting..\n",
    "    users_histories = {idx:{\"loss\":[], \"accuracy\":[]} for idx in range(args.num_users)}\n",
    "    \n",
    "    # news\n",
    "    USER_POINTS = [len(user_groups[idx]) for idx in range(args.num_users)]\n",
    "    TOTAL_POINTS = sum(USER_POINTS)\n",
    "    \n",
    "    if args.pfl == 1:\n",
    "        local_users = {idx:LocalUpdate_PFL(args=args, id=idx, dataset=train_dataset, idxs=user_groups[idx], ratio=ratio,\\\n",
    "                                     logger=logger) for idx in range(args.num_users)}\n",
    "    else:\n",
    "        local_users = {idx:LocalUpdate(args=args, id=idx, dataset=train_dataset, idxs=user_groups[idx], logger=logger)\\\n",
    "                       for idx in range(args.num_users)}\n",
    "        \n",
    "    # Training\n",
    "    train_loss, train_accuracy = [], []\n",
    "    for comm_round in tqdm(range(args.comm_rounds)):\n",
    "        # init local weights and loss\n",
    "        local_weights, local_losses = [], []\n",
    "        print(f'\\n | Global Training Round : {comm_round+1} |\\n')\n",
    "        \n",
    "        global_model.train()\n",
    "        # sample a fraction of users (with args frac)\n",
    "        m = max(int(args.frac * args.num_users), 1)\n",
    "        idxs_users = np.random.choice(range(args.num_users), m, replace=False)\n",
    "        \n",
    "        for idx in range(args.num_users): # to be returned to idxs_users\n",
    "            user = local_users[idx]\n",
    "            w, loss = user.update_weights(model=copy.deepcopy(global_model), global_round=comm_round)\n",
    "            w = multiply_weights(w, USER_POINTS[idx]/TOTAL_POINTS)\n",
    "            local_weights.append(copy.deepcopy(w))\n",
    "            local_losses.append(copy.deepcopy(loss))\n",
    "            users_histories[idx][\"loss\"].append(loss) #for plotting\n",
    "        \n",
    "        # update global weights\n",
    "        global_weights = average_weights(local_weights)\n",
    "        global_model.load_state_dict(global_weights)\n",
    "\n",
    "        loss_avg = sum(local_losses) / len(local_losses)\n",
    "        train_loss.append(loss_avg)\n",
    "        \n",
    "        # Calculate avg training accuracy over all users at every comm_round\n",
    "        list_acc = []\n",
    "        global_model.eval()\n",
    "        for idx in range(args.num_users):\n",
    "            user = local_users[idx]\n",
    "            acc, loss = user.inference(model=global_model)\n",
    "            list_acc.append(acc)\n",
    "            users_histories[idx][\"accuracy\"].append(acc) #for plotting\n",
    "        print(\"train accs: {}\".format(list_acc))\n",
    "        train_accuracy.append(sum(list_acc)/len(list_acc))\n",
    "        \n",
    "        # print global training loss after every 'i' rounds\n",
    "        if (comm_round+1) % print_every == 0:\n",
    "            print(f' \\nAvg Training Stats after {comm_round+1} global rounds:')\n",
    "            if args.pfl:\n",
    "                print('Last Average Train Accuracy: {:.2f}% \\n'.format(100*train_accuracy[-1]))\n",
    "            else:\n",
    "                print(f'Training Loss : {np.mean(np.array(train_loss))}')\n",
    "                print('Train Accuracy: {:.2f}% \\n'.format(100*train_accuracy[-1]))\n",
    "        \n",
    "    # Test inference after completion of training\n",
    "    test_accs = []\n",
    "    for idx in range(args.num_users):\n",
    "        user = local_users[idx]\n",
    "        acc, loss = user.inference(model=global_model, type=\"test\")\n",
    "        test_accs.append(\"{}%\".format(round(100*acc,2)))\n",
    "       \n",
    "    print(f' \\n Results after {args.comm_rounds} global rounds of training:')\n",
    "    print(\"|---- Avg Train Accuracy: {:.2f}%\".format(100*train_accuracy[-1]))\n",
    "    print(\"|---- Test Accuracies: {}\".format(test_accs))\n",
    "    print('\\n Total Run Time: {0:0.4f}'.format(time.time()-start_time))\n",
    "    \n",
    "    return users_histories"
   ]
  },
  {
   "cell_type": "markdown",
   "id": "30b161e0",
   "metadata": {},
   "source": [
    "# Experiments"
   ]
  },
  {
   "cell_type": "markdown",
   "id": "102f1897",
   "metadata": {},
   "source": [
    "## Ex 1. MNIST | IID | 5 users | 10 comm rounds"
   ]
  },
  {
   "cell_type": "code",
   "execution_count": null,
   "id": "cfa8d1b3",
   "metadata": {},
   "outputs": [],
   "source": [
    "# Choose the arguments\n",
    "args = Args(pfl=0, model='cnn', dataset='mnist', gpu=0, iid=1, comm_rounds=10, num_users=5, frac=1, local_ep=3, verbose=0)"
   ]
  },
  {
   "cell_type": "code",
   "execution_count": null,
   "id": "e3d96502",
   "metadata": {},
   "outputs": [],
   "source": [
    "# Intialize the global model\n",
    "org_model = build_model(args)"
   ]
  },
  {
   "cell_type": "markdown",
   "id": "166f4700",
   "metadata": {},
   "source": [
    "### Data"
   ]
  },
  {
   "cell_type": "code",
   "execution_count": null,
   "id": "f646288a",
   "metadata": {},
   "outputs": [],
   "source": [
    "# Get the dataset\n",
    "train_dataset, test_dataset, user_groups = get_dataset(args)\n",
    "# Plot the data\n",
    "plot_distrbutions(dataset=train_dataset, n_clients=args.num_users)"
   ]
  },
  {
   "cell_type": "markdown",
   "id": "1128fb32",
   "metadata": {},
   "source": [
    "### TFL"
   ]
  },
  {
   "cell_type": "code",
   "execution_count": null,
   "id": "015ee5ce",
   "metadata": {},
   "outputs": [],
   "source": [
    "# Run the FL operation\n",
    "users_histories_tfl = run(args, copy.deepcopy(org_model), train_dataset, test_dataset, user_groups, print_every=5)"
   ]
  },
  {
   "cell_type": "code",
   "execution_count": null,
   "id": "a7588018",
   "metadata": {},
   "outputs": [],
   "source": [
    "plot_history(users_histories_tfl, args.comm_rounds, metric=\"loss\")"
   ]
  },
  {
   "cell_type": "code",
   "execution_count": null,
   "id": "90d6554f",
   "metadata": {},
   "outputs": [],
   "source": [
    "plot_history(users_histories_tfl, args.comm_rounds, metric=\"accuracy\")"
   ]
  },
  {
   "cell_type": "markdown",
   "id": "ea55dc2b",
   "metadata": {},
   "source": [
    "### PFL"
   ]
  },
  {
   "cell_type": "code",
   "execution_count": null,
   "id": "936e4611",
   "metadata": {},
   "outputs": [],
   "source": [
    "# modify the arguments, only (pfl)\n",
    "args = Args(pfl=1, model='cnn', dataset='mnist', gpu=0, iid=1, comm_rounds=10, num_users=5, frac=1, local_ep=3, verbose=0)"
   ]
  },
  {
   "cell_type": "code",
   "execution_count": null,
   "id": "2caf2bd1",
   "metadata": {},
   "outputs": [],
   "source": [
    "# Run the FL operation\n",
    "users_histories_pfl = run(args, copy.deepcopy(org_model), train_dataset, test_dataset, user_groups, print_every=5)"
   ]
  },
  {
   "cell_type": "code",
   "execution_count": null,
   "id": "9d7f2f76",
   "metadata": {},
   "outputs": [],
   "source": [
    "plot_history(users_histories_pfl, args.comm_rounds, metric=\"loss\")"
   ]
  },
  {
   "cell_type": "code",
   "execution_count": null,
   "id": "41408cb4",
   "metadata": {},
   "outputs": [],
   "source": [
    "plot_history(users_histories_pfl, args.comm_rounds, metric=\"accuracy\")"
   ]
  },
  {
   "cell_type": "markdown",
   "id": "4d8d0b53",
   "metadata": {},
   "source": [
    "## Ex 2. MNIST | nonIID | 5 users | 10 comm rounds"
   ]
  },
  {
   "cell_type": "code",
   "execution_count": null,
   "id": "8ee5077f",
   "metadata": {},
   "outputs": [],
   "source": [
    "# Choose the arguments\n",
    "args = Args(pfl=0, model='cnn', dataset='mnist', gpu=0, iid=0, comm_rounds=10, num_users=5, frac=1, local_ep=3, verbose=0)"
   ]
  },
  {
   "cell_type": "markdown",
   "id": "9ddccdc2",
   "metadata": {},
   "source": [
    "### Data"
   ]
  },
  {
   "cell_type": "code",
   "execution_count": null,
   "id": "72ed28d4",
   "metadata": {},
   "outputs": [],
   "source": [
    "# Get the dataset\n",
    "train_dataset, test_dataset, user_groups = get_dataset(args)\n",
    "# Plot the data\n",
    "plot_distrbutions(dataset=train_dataset, n_clients=args.num_users)"
   ]
  },
  {
   "cell_type": "markdown",
   "id": "6e5639b7",
   "metadata": {},
   "source": [
    "### TFL"
   ]
  },
  {
   "cell_type": "code",
   "execution_count": null,
   "id": "7f0e9fb2",
   "metadata": {},
   "outputs": [],
   "source": [
    "# Run the FL operation\n",
    "users_histories_tfl = run(args, copy.deepcopy(org_model), train_dataset, test_dataset, user_groups, print_every=5)"
   ]
  },
  {
   "cell_type": "code",
   "execution_count": null,
   "id": "d6a48727",
   "metadata": {},
   "outputs": [],
   "source": [
    "plot_history(users_histories_tfl, args.comm_rounds, metric=\"loss\")"
   ]
  },
  {
   "cell_type": "code",
   "execution_count": null,
   "id": "d5b72d04",
   "metadata": {},
   "outputs": [],
   "source": [
    "plot_history(users_histories_tfl, args.comm_rounds, metric=\"accuracy\")"
   ]
  },
  {
   "cell_type": "markdown",
   "id": "2ec35833",
   "metadata": {},
   "source": [
    "### PFL"
   ]
  },
  {
   "cell_type": "code",
   "execution_count": null,
   "id": "a44f2930",
   "metadata": {},
   "outputs": [],
   "source": [
    "# modify the arguments, only (pfl)\n",
    "args = Args(pfl=1, model='cnn', dataset='mnist', gpu=0, iid=0, comm_rounds=10, num_users=5, frac=1, local_ep=3, verbose=0)\n",
    "# Run the FL operation\n",
    "users_histories_pfl = run(args, copy.deepcopy(org_model), train_dataset, test_dataset, user_groups, print_every=5)"
   ]
  },
  {
   "cell_type": "code",
   "execution_count": null,
   "id": "137bb5c1",
   "metadata": {},
   "outputs": [],
   "source": [
    "plot_history(users_histories_pfl, args.comm_rounds, metric=\"loss\")"
   ]
  },
  {
   "cell_type": "code",
   "execution_count": null,
   "id": "b7586459",
   "metadata": {},
   "outputs": [],
   "source": [
    "plot_history(users_histories_pfl, args.comm_rounds, metric=\"accuracy\")"
   ]
  },
  {
   "cell_type": "markdown",
   "id": "6d9cb7bf",
   "metadata": {},
   "source": [
    "## Ex 3. MNIST | p-nonIID | 5 users | 10 comm rounds"
   ]
  },
  {
   "cell_type": "code",
   "execution_count": null,
   "id": "8e8d1e8f",
   "metadata": {},
   "outputs": [],
   "source": [
    "# Choose the arguments\n",
    "args = Args(pfl=0, model='cnn', dataset='mnist', gpu=0, iid=0, comm_rounds=10, num_users=5, frac=1, local_ep=3, verbose=0)"
   ]
  },
  {
   "cell_type": "markdown",
   "id": "767debc4",
   "metadata": {},
   "source": [
    "### Data"
   ]
  },
  {
   "cell_type": "code",
   "execution_count": null,
   "id": "3618b082",
   "metadata": {},
   "outputs": [],
   "source": [
    "# Get the dataset\n",
    "train_dataset, test_dataset, user_groups = get_dataset(args, nonequal=True)\n",
    "# Plot the data\n",
    "plot_distrbutions(dataset=train_dataset, n_clients=args.num_users)"
   ]
  },
  {
   "cell_type": "markdown",
   "id": "e1a94897",
   "metadata": {},
   "source": [
    "### TFL"
   ]
  },
  {
   "cell_type": "code",
   "execution_count": null,
   "id": "e091d71b",
   "metadata": {},
   "outputs": [],
   "source": [
    "# Run the FL operation\n",
    "users_histories_tfl = run(args, copy.deepcopy(org_model), train_dataset, test_dataset, user_groups, print_every=5)"
   ]
  },
  {
   "cell_type": "code",
   "execution_count": null,
   "id": "ee2805c5",
   "metadata": {},
   "outputs": [],
   "source": [
    "plot_history(users_histories_tfl, args.comm_rounds, metric=\"loss\")"
   ]
  },
  {
   "cell_type": "code",
   "execution_count": null,
   "id": "268e030a",
   "metadata": {},
   "outputs": [],
   "source": [
    "plot_history(users_histories_tfl, args.comm_rounds, metric=\"accuracy\")"
   ]
  },
  {
   "cell_type": "markdown",
   "id": "f82271ce",
   "metadata": {},
   "source": [
    "### PFL"
   ]
  },
  {
   "cell_type": "code",
   "execution_count": null,
   "id": "96dca829",
   "metadata": {},
   "outputs": [],
   "source": [
    "# modify the arguments, only (pfl)\n",
    "args = Args(pfl=1, model='cnn', dataset='mnist', gpu=0, iid=0, comm_rounds=10, num_users=5, frac=1, local_ep=3, verbose=0)\n",
    "# Run the FL operation\n",
    "users_histories_pfl = run(args, copy.deepcopy(org_model), train_dataset, test_dataset, user_groups, print_every=5)"
   ]
  },
  {
   "cell_type": "code",
   "execution_count": null,
   "id": "097eaf43",
   "metadata": {},
   "outputs": [],
   "source": [
    "plot_history(users_histories_pfl, args.comm_rounds, metric=\"loss\")"
   ]
  },
  {
   "cell_type": "code",
   "execution_count": null,
   "id": "93ad5cba",
   "metadata": {},
   "outputs": [],
   "source": [
    "plot_history(users_histories_pfl, args.comm_rounds, metric=\"accuracy\")"
   ]
  },
  {
   "cell_type": "markdown",
   "id": "656c8d92",
   "metadata": {},
   "source": [
    "## Ex 4. CIFAR10 | nonIID | 5 users | 10 comm rounds"
   ]
  },
  {
   "cell_type": "code",
   "execution_count": null,
   "id": "a4f4b112",
   "metadata": {},
   "outputs": [],
   "source": [
    "# Choose the arguments\n",
    "args = Args(pfl=0, model='cnn', dataset='cifar', gpu=0, iid=0, comm_rounds=10, num_users=5, frac=1, local_ep=3, verbose=0)\n",
    "# Intialize the global model\n",
    "org_model = build_model(args)"
   ]
  },
  {
   "cell_type": "markdown",
   "id": "0d88182f",
   "metadata": {},
   "source": [
    "### Data"
   ]
  },
  {
   "cell_type": "code",
   "execution_count": null,
   "id": "47a9a7e6",
   "metadata": {},
   "outputs": [],
   "source": [
    "# Get the dataset\n",
    "train_dataset, test_dataset, user_groups = get_dataset(args)\n",
    "# Plot the data\n",
    "plot_distrbutions(dataset=train_dataset, n_clients=args.num_users)"
   ]
  },
  {
   "cell_type": "markdown",
   "id": "5c7e68b0",
   "metadata": {},
   "source": [
    "### TFL"
   ]
  },
  {
   "cell_type": "code",
   "execution_count": null,
   "id": "e88ccfe6",
   "metadata": {},
   "outputs": [],
   "source": [
    "# Run the FL operation\n",
    "users_histories_tfl = run(args, copy.deepcopy(org_model), train_dataset, test_dataset, user_groups, print_every=5)"
   ]
  },
  {
   "cell_type": "code",
   "execution_count": null,
   "id": "dbd81171",
   "metadata": {},
   "outputs": [],
   "source": [
    "plot_history(users_histories_tfl, args.comm_rounds, metric=\"loss\")"
   ]
  },
  {
   "cell_type": "code",
   "execution_count": null,
   "id": "f3a95be8",
   "metadata": {},
   "outputs": [],
   "source": [
    "plot_history(users_histories_tfl, args.comm_rounds, metric=\"accuracy\")"
   ]
  },
  {
   "cell_type": "markdown",
   "id": "aa7bf036",
   "metadata": {},
   "source": [
    "### PFL"
   ]
  },
  {
   "cell_type": "code",
   "execution_count": null,
   "id": "15ff27a6",
   "metadata": {},
   "outputs": [],
   "source": [
    "# modify the arguments, only (pfl)\n",
    "args = Args(pfl=1, model='cnn', dataset='cifar', gpu=0, iid=0, comm_rounds=10, num_users=5, frac=1, local_ep=3, verbose=0)\n",
    "# Run the FL operation\n",
    "users_histories_pfl = run(args, copy.deepcopy(org_model), train_dataset, test_dataset, user_groups, print_every=5)"
   ]
  },
  {
   "cell_type": "code",
   "execution_count": null,
   "id": "0783f310",
   "metadata": {},
   "outputs": [],
   "source": [
    "plot_history(users_histories_pfl, args.comm_rounds, metric=\"loss\")"
   ]
  },
  {
   "cell_type": "code",
   "execution_count": null,
   "id": "3df2d807",
   "metadata": {},
   "outputs": [],
   "source": [
    "plot_history(users_histories_pfl, args.comm_rounds, metric=\"accuracy\")"
   ]
  },
  {
   "cell_type": "markdown",
   "id": "f84a3584",
   "metadata": {},
   "source": [
    "## Ex 5. CIFAR10 | p-nonIID | 5 users | 10 comm rounds"
   ]
  },
  {
   "cell_type": "code",
   "execution_count": null,
   "id": "96a0a54e",
   "metadata": {},
   "outputs": [],
   "source": [
    "# Choose the arguments\n",
    "args = Args(pfl=0, model='cnn', dataset='cifar', gpu=0, iid=0, comm_rounds=10, num_users=5, frac=1, local_ep=3, verbose=0)"
   ]
  },
  {
   "cell_type": "markdown",
   "id": "72bba9f9",
   "metadata": {},
   "source": [
    "### Data"
   ]
  },
  {
   "cell_type": "code",
   "execution_count": null,
   "id": "8cc8d862",
   "metadata": {},
   "outputs": [],
   "source": [
    "# Get the dataset\n",
    "train_dataset, test_dataset, user_groups = get_dataset(args, nonequal=True)\n",
    "# Plot the data\n",
    "plot_distrbutions(dataset=train_dataset, n_clients=args.num_users)"
   ]
  },
  {
   "cell_type": "markdown",
   "id": "4fdfecec",
   "metadata": {},
   "source": [
    "### TFL"
   ]
  },
  {
   "cell_type": "code",
   "execution_count": null,
   "id": "e2824451",
   "metadata": {},
   "outputs": [],
   "source": [
    "# Run the FL operation\n",
    "users_histories_tfl = run(args, copy.deepcopy(org_model), train_dataset, test_dataset, user_groups, print_every=5)"
   ]
  },
  {
   "cell_type": "code",
   "execution_count": null,
   "id": "80929de8",
   "metadata": {},
   "outputs": [],
   "source": [
    "plot_history(users_histories_tfl, args.comm_rounds, metric=\"loss\")"
   ]
  },
  {
   "cell_type": "code",
   "execution_count": null,
   "id": "ea22248a",
   "metadata": {},
   "outputs": [],
   "source": [
    "plot_history(users_histories_tfl, args.comm_rounds, metric=\"accuracy\")"
   ]
  },
  {
   "cell_type": "markdown",
   "id": "16aa51cd",
   "metadata": {},
   "source": [
    "### PFL"
   ]
  },
  {
   "cell_type": "code",
   "execution_count": null,
   "id": "e8777026",
   "metadata": {},
   "outputs": [],
   "source": [
    "# modify the arguments, only (pfl)\n",
    "args = Args(pfl=1, model='cnn', dataset='cifar', gpu=0, iid=0, comm_rounds=10, num_users=5, frac=1, local_ep=3, verbose=0)\n",
    "# Run the FL operation\n",
    "users_histories_pfl = run(args, copy.deepcopy(org_model), train_dataset, test_dataset, user_groups, print_every=5)"
   ]
  },
  {
   "cell_type": "code",
   "execution_count": null,
   "id": "49263e2f",
   "metadata": {},
   "outputs": [],
   "source": [
    "plot_history(users_histories_pfl, args.comm_rounds, metric=\"loss\")"
   ]
  },
  {
   "cell_type": "code",
   "execution_count": null,
   "id": "9b99f3e0",
   "metadata": {},
   "outputs": [],
   "source": [
    "plot_history(users_histories_pfl, args.comm_rounds, metric=\"accuracy\")"
   ]
  },
  {
   "cell_type": "markdown",
   "id": "cd3aca0a",
   "metadata": {},
   "source": [
    "## Ex 6. CIFAR10 | p-nonIID | 10 users | 15 comm rounds"
   ]
  },
  {
   "cell_type": "code",
   "execution_count": null,
   "id": "a6e6a4d9",
   "metadata": {},
   "outputs": [],
   "source": [
    "# Choose the arguments\n",
    "args = Args(pfl=0, model='cnn', dataset='cifar', gpu=0, iid=0, comm_rounds=15, num_users=10, frac=1, local_ep=3, verbose=0)"
   ]
  },
  {
   "cell_type": "markdown",
   "id": "20e7b443",
   "metadata": {},
   "source": [
    "### Data"
   ]
  },
  {
   "cell_type": "code",
   "execution_count": null,
   "id": "52c8d6e9",
   "metadata": {},
   "outputs": [],
   "source": [
    "# Get the dataset\n",
    "train_dataset, test_dataset, user_groups = get_dataset(args, nonequal=True)\n",
    "# Plot the data\n",
    "plot_distrbutions(dataset=train_dataset, n_clients=args.num_users)"
   ]
  },
  {
   "cell_type": "markdown",
   "id": "bf60c620",
   "metadata": {},
   "source": [
    "### TFL"
   ]
  },
  {
   "cell_type": "code",
   "execution_count": null,
   "id": "86aa7846",
   "metadata": {},
   "outputs": [],
   "source": [
    "# Run the FL operation\n",
    "users_histories_tfl = run(args, copy.deepcopy(org_model), train_dataset, test_dataset, user_groups, print_every=5)"
   ]
  },
  {
   "cell_type": "code",
   "execution_count": null,
   "id": "f7be321b",
   "metadata": {},
   "outputs": [],
   "source": [
    "plot_history(users_histories_tfl, args.comm_rounds, metric=\"loss\")"
   ]
  },
  {
   "cell_type": "code",
   "execution_count": null,
   "id": "334e2910",
   "metadata": {},
   "outputs": [],
   "source": [
    "plot_history(users_histories_tfl, args.comm_rounds, metric=\"accuracy\")"
   ]
  },
  {
   "cell_type": "markdown",
   "id": "c53b88e0",
   "metadata": {},
   "source": [
    "### PFL"
   ]
  },
  {
   "cell_type": "code",
   "execution_count": null,
   "id": "8d0ef287",
   "metadata": {},
   "outputs": [],
   "source": [
    "# modify the arguments, only (pfl)\n",
    "args = Args(pfl=1, model='cnn', dataset='cifar', gpu=0, iid=0, comm_rounds=10, num_users=5, frac=1, local_ep=3, verbose=0)\n",
    "# Run the FL operation\n",
    "users_histories_pfl = run(args, copy.deepcopy(org_model), train_dataset, test_dataset, user_groups, print_every=5)"
   ]
  },
  {
   "cell_type": "code",
   "execution_count": null,
   "id": "fabd9e10",
   "metadata": {},
   "outputs": [],
   "source": [
    "plot_history(users_histories_pfl, args.comm_rounds, metric=\"loss\")"
   ]
  },
  {
   "cell_type": "code",
   "execution_count": null,
   "id": "c6aa1f15",
   "metadata": {},
   "outputs": [],
   "source": [
    "plot_history(users_histories_pfl, args.comm_rounds, metric=\"accuracy\")"
   ]
  }
 ],
 "metadata": {
  "kernelspec": {
   "display_name": "Python 3 (ipykernel)",
   "language": "python",
   "name": "python3"
  },
  "language_info": {
   "codemirror_mode": {
    "name": "ipython",
    "version": 3
   },
   "file_extension": ".py",
   "mimetype": "text/x-python",
   "name": "python",
   "nbconvert_exporter": "python",
   "pygments_lexer": "ipython3",
   "version": "3.7.13"
  }
 },
 "nbformat": 4,
 "nbformat_minor": 5
}
